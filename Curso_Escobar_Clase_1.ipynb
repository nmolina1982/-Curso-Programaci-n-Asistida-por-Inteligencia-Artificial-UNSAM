{
  "nbformat": 4,
  "nbformat_minor": 0,
  "metadata": {
    "colab": {
      "provenance": [],
      "include_colab_link": true
    },
    "kernelspec": {
      "name": "python3",
      "display_name": "Python 3"
    },
    "language_info": {
      "name": "python"
    }
  },
  "cells": [
    {
      "cell_type": "markdown",
      "metadata": {
        "id": "view-in-github",
        "colab_type": "text"
      },
      "source": [
        "<a href=\"https://colab.research.google.com/github/nmolina1982/-Curso-Programaci-n-Asistida-por-Inteligencia-Artificial-UNSAM/blob/main/Curso_Escobar_Clase_1.ipynb\" target=\"_parent\"><img src=\"https://colab.research.google.com/assets/colab-badge.svg\" alt=\"Open In Colab\"/></a>"
      ]
    },
    {
      "cell_type": "code",
      "source": [
        "mensaje = \"un mensaje personalizado\"\t\t # 1. Guardar el mensaje en una variable\n",
        "print(mensaje)\t\t\t\t\t\t\t            # 2. Imprimirlo directamente\n",
        "print(f\"Este es: {mensaje}\")\t\t\t\t# 3. Usar f-strings\n",
        "print(\"Este es: \" + mensaje)\t\t\t\t# 4. Concatenar con +\n",
        "print(\"Este es:\" , mensaje)\t\t\t\t# 4. Concatenar con ,\n",
        "print(mensaje.upper())\t\t\t\t\t# 5. Transformar el texto (mayúsculas)\n",
        "print(f\"Tu mensaje es:\\n\\t{mensaje}\")\t\t# 6. Mostrar con salto de línea y tabulación\n",
        "print(\"un mensaje personalizado\")\t\t\t# 7. Todo en una sola línea sin variable\n",
        "\n"
      ],
      "metadata": {
        "id": "EEgVqtoa_8lu",
        "colab": {
          "base_uri": "https://localhost:8080/"
        },
        "outputId": "a1fbed07-db0e-4a3c-aa50-5682cb5488e8"
      },
      "execution_count": null,
      "outputs": [
        {
          "output_type": "stream",
          "name": "stdout",
          "text": [
            "un mensaje personalizado\n",
            "Este es: un mensaje personalizado\n",
            "Este es: otro mensaje\n",
            "Este es: otro mensaje\n",
            "OTRO MENSAJE\n",
            "Tu mensaje es:\n",
            "\totro mensaje\n",
            "un mensaje personalizado\n"
          ]
        }
      ]
    }
  ]
}